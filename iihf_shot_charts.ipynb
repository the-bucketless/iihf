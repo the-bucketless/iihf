{
  "nbformat": 4,
  "nbformat_minor": 0,
  "metadata": {
    "colab": {
      "name": "iihf_shot_charts.ipynb",
      "provenance": [],
      "collapsed_sections": [],
      "toc_visible": true,
      "authorship_tag": "ABX9TyNzfeU4sZE2zEtV62wp1nBK",
      "include_colab_link": true
    },
    "kernelspec": {
      "name": "python3",
      "display_name": "Python 3"
    },
    "language_info": {
      "name": "python"
    }
  },
  "cells": [
    {
      "cell_type": "markdown",
      "metadata": {
        "id": "view-in-github",
        "colab_type": "text"
      },
      "source": [
        "<a href=\"https://colab.research.google.com/github/the-bucketless/iihf/blob/main/iihf_shot_charts.ipynb\" target=\"_parent\"><img src=\"https://colab.research.google.com/assets/colab-badge.svg\" alt=\"Open In Colab\"/></a>"
      ]
    },
    {
      "cell_type": "markdown",
      "source": [
        "# IIHF Shot Charts"
      ],
      "metadata": {
        "id": "ZOa4_UgVj7o_"
      }
    },
    {
      "cell_type": "markdown",
      "source": [
        "This notebook extracts the data from the shot charts in the PDFs that the IIHF provides.  \n",
        "\n",
        "The coordinates of shots as well as their type and the jersey number of the player who took the shot can be found from the drawings on the PDF (as opposed to the images or text).  \n",
        "\n",
        "The text can't be read by the PDF package, so the team names and goalie numbers are found using optical character recognition (OCR).  \n",
        "\n",
        "Two CSV files can be downloaded for each game:\n",
        "- The shot locations on the rink.\n",
        "- The goal locations in the net.\n",
        "\n",
        "When the goal is on an empty net, the goalie number is set to -1."
      ],
      "metadata": {
        "id": "gP7FieFJj-i0"
      }
    },
    {
      "cell_type": "markdown",
      "source": [
        "# Installs and Imports"
      ],
      "metadata": {
        "id": "xIVxaleEkxKa"
      }
    },
    {
      "cell_type": "markdown",
      "source": [
        "I've chosen to use an earlier version of pytesseract for the sole purpose of avoiding having to restart the runtime after running this cell.  The newest version requires an update to PIL, which isn't an issue, but this way 'Run all' is an option."
      ],
      "metadata": {
        "id": "Hqe-OksERzxq"
      }
    },
    {
      "cell_type": "code",
      "execution_count": 1,
      "metadata": {
        "colab": {
          "base_uri": "https://localhost:8080/"
        },
        "id": "7LjSvFwjFLpD",
        "outputId": "df268b64-9051-409b-9e8c-006fd1d6b062"
      },
      "outputs": [
        {
          "output_type": "stream",
          "name": "stdout",
          "text": [
            "Looking in indexes: https://pypi.org/simple, https://us-python.pkg.dev/colab-wheels/public/simple/\n",
            "Collecting hockey-rink\n",
            "  Downloading hockey_rink-0.1.7.tar.gz (34 kB)\n",
            "Requirement already satisfied: matplotlib in /usr/local/lib/python3.7/dist-packages (from hockey-rink) (3.2.2)\n",
            "Requirement already satisfied: numpy in /usr/local/lib/python3.7/dist-packages (from hockey-rink) (1.21.6)\n",
            "Requirement already satisfied: scipy in /usr/local/lib/python3.7/dist-packages (from hockey-rink) (1.4.1)\n",
            "Requirement already satisfied: python-dateutil>=2.1 in /usr/local/lib/python3.7/dist-packages (from matplotlib->hockey-rink) (2.8.2)\n",
            "Requirement already satisfied: pyparsing!=2.0.4,!=2.1.2,!=2.1.6,>=2.0.1 in /usr/local/lib/python3.7/dist-packages (from matplotlib->hockey-rink) (3.0.9)\n",
            "Requirement already satisfied: kiwisolver>=1.0.1 in /usr/local/lib/python3.7/dist-packages (from matplotlib->hockey-rink) (1.4.2)\n",
            "Requirement already satisfied: cycler>=0.10 in /usr/local/lib/python3.7/dist-packages (from matplotlib->hockey-rink) (0.11.0)\n",
            "Requirement already satisfied: typing-extensions in /usr/local/lib/python3.7/dist-packages (from kiwisolver>=1.0.1->matplotlib->hockey-rink) (4.2.0)\n",
            "Requirement already satisfied: six>=1.5 in /usr/local/lib/python3.7/dist-packages (from python-dateutil>=2.1->matplotlib->hockey-rink) (1.15.0)\n",
            "Building wheels for collected packages: hockey-rink\n",
            "  Building wheel for hockey-rink (setup.py) ... \u001b[?25l\u001b[?25hdone\n",
            "  Created wheel for hockey-rink: filename=hockey_rink-0.1.7-py3-none-any.whl size=34876 sha256=1485e0c353857ad078128857d791990993780508ab2d46a7aa3a0aae300b818f\n",
            "  Stored in directory: /root/.cache/pip/wheels/9b/9c/06/217d4c3a942284788e7fce440ef4e47a8d032cdceb372ff7ec\n",
            "Successfully built hockey-rink\n",
            "Installing collected packages: hockey-rink\n",
            "Successfully installed hockey-rink-0.1.7\n",
            "Looking in indexes: https://pypi.org/simple, https://us-python.pkg.dev/colab-wheels/public/simple/\n",
            "Collecting pymupdf\n",
            "  Downloading PyMuPDF-1.19.6-cp37-cp37m-manylinux_2_17_x86_64.manylinux2014_x86_64.whl (8.8 MB)\n",
            "\u001b[K     |████████████████████████████████| 8.8 MB 8.4 MB/s \n",
            "\u001b[?25hInstalling collected packages: pymupdf\n",
            "Successfully installed pymupdf-1.19.6\n",
            "Looking in indexes: https://pypi.org/simple, https://us-python.pkg.dev/colab-wheels/public/simple/\n",
            "Collecting pytesseract==0.2.6\n",
            "  Downloading pytesseract-0.2.6.tar.gz (169 kB)\n",
            "\u001b[K     |████████████████████████████████| 169 kB 8.5 MB/s \n",
            "\u001b[?25hRequirement already satisfied: Pillow in /usr/local/lib/python3.7/dist-packages (from pytesseract==0.2.6) (7.1.2)\n",
            "Building wheels for collected packages: pytesseract\n",
            "  Building wheel for pytesseract (setup.py) ... \u001b[?25l\u001b[?25hdone\n",
            "  Created wheel for pytesseract: filename=pytesseract-0.2.6-py2.py3-none-any.whl size=165667 sha256=ea07536898862702df3f4a75c8fce59ba1ef71f183795d1ba1fd8426ea60c538\n",
            "  Stored in directory: /root/.cache/pip/wheels/ff/32/6d/0c7083e5ffd6d73e2ef722ba7ab383f71d31497161c3c9a7e2\n",
            "Successfully built pytesseract\n",
            "Installing collected packages: pytesseract\n",
            "Successfully installed pytesseract-0.2.6\n",
            "Reading package lists... Done\n",
            "Building dependency tree       \n",
            "Reading state information... Done\n",
            "The following package was automatically installed and is no longer required:\n",
            "  libnvidia-common-460\n",
            "Use 'sudo apt autoremove' to remove it.\n",
            "The following additional packages will be installed:\n",
            "  tesseract-ocr-eng tesseract-ocr-osd\n",
            "The following NEW packages will be installed:\n",
            "  tesseract-ocr tesseract-ocr-eng tesseract-ocr-osd\n",
            "0 upgraded, 3 newly installed, 0 to remove and 45 not upgraded.\n",
            "Need to get 4,795 kB of archives.\n",
            "After this operation, 15.8 MB of additional disk space will be used.\n",
            "Get:1 http://archive.ubuntu.com/ubuntu bionic/universe amd64 tesseract-ocr-eng all 4.00~git24-0e00fe6-1.2 [1,588 kB]\n",
            "Get:2 http://archive.ubuntu.com/ubuntu bionic/universe amd64 tesseract-ocr-osd all 4.00~git24-0e00fe6-1.2 [2,989 kB]\n",
            "Get:3 http://archive.ubuntu.com/ubuntu bionic/universe amd64 tesseract-ocr amd64 4.00~git2288-10f4998a-2 [218 kB]\n",
            "Fetched 4,795 kB in 2s (2,969 kB/s)\n",
            "debconf: unable to initialize frontend: Dialog\n",
            "debconf: (No usable dialog-like program is installed, so the dialog based frontend cannot be used. at /usr/share/perl5/Debconf/FrontEnd/Dialog.pm line 76, <> line 3.)\n",
            "debconf: falling back to frontend: Readline\n",
            "debconf: unable to initialize frontend: Readline\n",
            "debconf: (This frontend requires a controlling tty.)\n",
            "debconf: falling back to frontend: Teletype\n",
            "dpkg-preconfigure: unable to re-open stdin: \n",
            "Selecting previously unselected package tesseract-ocr-eng.\n",
            "(Reading database ... 155632 files and directories currently installed.)\n",
            "Preparing to unpack .../tesseract-ocr-eng_4.00~git24-0e00fe6-1.2_all.deb ...\n",
            "Unpacking tesseract-ocr-eng (4.00~git24-0e00fe6-1.2) ...\n",
            "Selecting previously unselected package tesseract-ocr-osd.\n",
            "Preparing to unpack .../tesseract-ocr-osd_4.00~git24-0e00fe6-1.2_all.deb ...\n",
            "Unpacking tesseract-ocr-osd (4.00~git24-0e00fe6-1.2) ...\n",
            "Selecting previously unselected package tesseract-ocr.\n",
            "Preparing to unpack .../tesseract-ocr_4.00~git2288-10f4998a-2_amd64.deb ...\n",
            "Unpacking tesseract-ocr (4.00~git2288-10f4998a-2) ...\n",
            "Setting up tesseract-ocr-osd (4.00~git24-0e00fe6-1.2) ...\n",
            "Setting up tesseract-ocr-eng (4.00~git24-0e00fe6-1.2) ...\n",
            "Setting up tesseract-ocr (4.00~git2288-10f4998a-2) ...\n",
            "Processing triggers for man-db (2.8.3-2ubuntu0.1) ...\n"
          ]
        }
      ],
      "source": [
        "!pip install hockey-rink\n",
        "!pip install pymupdf\n",
        "!pip install pytesseract==0.2.6\n",
        "!sudo apt install tesseract-ocr"
      ]
    },
    {
      "cell_type": "code",
      "source": [
        "from collections import namedtuple\n",
        "import fitz\n",
        "from functools import partial\n",
        "from google.colab import files\n",
        "from hockey_rink import Rink\n",
        "from io import BytesIO\n",
        "from itertools import permutations, product\n",
        "import matplotlib.pyplot as plt\n",
        "import numpy as np\n",
        "import pandas as pd\n",
        "from PIL import Image\n",
        "import pytesseract\n",
        "import requests"
      ],
      "metadata": {
        "id": "YNNdRJbcFhMO"
      },
      "execution_count": 2,
      "outputs": []
    },
    {
      "cell_type": "markdown",
      "source": [
        "# Some Necessary Assumptions"
      ],
      "metadata": {
        "id": "8VFVfN1Uo3hb"
      }
    },
    {
      "cell_type": "markdown",
      "source": [
        "As far as I've seen, all the PDFs use the same sized rink regardless of where the game was played. These are the standard international rink dimensions. I've left them as parameters in case updates are necessary."
      ],
      "metadata": {
        "id": "AnqPinuLSBlB"
      }
    },
    {
      "cell_type": "code",
      "source": [
        "rink_length = 197    #@param {type: \"number\"}\n",
        "rink_width = 98.4    #@param {type: \"number\"}"
      ],
      "metadata": {
        "id": "1EZCAFjSFlwM"
      },
      "execution_count": 3,
      "outputs": []
    },
    {
      "cell_type": "markdown",
      "source": [
        "If either of the following assumptions don't hold, changes will be needed: \n",
        "- The images of nets used in the PDFs have a width of 543. I've used this to determine where goals need to be pulled from.\n",
        "- Rink images are determined based on which image on the page is widest.\n",
        "\n",
        "The net width can updated by changing NET_IMAGE_WIDTH. The rink image will require diving in to some code."
      ],
      "metadata": {
        "id": "vgJgUwMQm6uw"
      }
    },
    {
      "cell_type": "code",
      "source": [
        "# need to increase size of pdf for ocr to work well\n",
        "ZOOM = 5\n",
        "\n",
        "# hockey nets are 6' x 4'\n",
        "NET_HEIGHT = 4\n",
        "NET_WIDTH = 6\n",
        "\n",
        "# net images in the pdfs have width 543\n",
        "NET_IMAGE_WIDTH = 543"
      ],
      "metadata": {
        "id": "V6dsEzhb5Fe-"
      },
      "execution_count": 4,
      "outputs": []
    },
    {
      "cell_type": "markdown",
      "source": [
        "# Shots from Drawings"
      ],
      "metadata": {
        "id": "_thvSnWnozKh"
      }
    },
    {
      "cell_type": "markdown",
      "source": [
        "The characters used to denote shots on the rink and in the nets are made using draw commands. These consist of lines (l) and curves (c). The characters used for the different shot types are:\n",
        "- Goal: o\n",
        "- Shot (SSG): +\n",
        "- Miss (SPG): -\n",
        "- Block (SSP): < or > \n",
        "\n",
        "Fortunately, the combinations of these characters and the numbers that either precede or follow them create unique sequences of 'l's and 'c's. As a result, we can use these as keys in a dictionary to find the shot types and numbers."
      ],
      "metadata": {
        "id": "bwVKUmOOUMZl"
      }
    },
    {
      "cell_type": "code",
      "source": [
        "shot_types = {\n",
        "    \"Goal\": \"ccccccccccccccccc\",\n",
        "    \"Shot\": \"llllllllllll\",\n",
        "    \"Block\": \"lllllll\",\n",
        "    \"Miss\": \"llll\",\n",
        "}\n",
        "\n",
        "numbers = {\n",
        "    1: \"llcclccll\",\n",
        "    2: \"llccccccccclcccccccccl\",\n",
        "    3: \"lccccccclccccccclccccccccccccc\",\n",
        "    4: \"llllllllllllll\",\n",
        "    5: \"lccccccccllllllccccccc\",\n",
        "    6: \"lccccccccccccccccccccccccccc\",\n",
        "    7: \"lllccclcccl\",\n",
        "    8: \"ccccccccccccccccccccccccccccccccc\",\n",
        "    9: \"lccccccccccccccccccccccccccccc\",\n",
        "    0: \"cccccccccccccccccccc\",\n",
        "}\n",
        "\n",
        "# separate dicts based on whether the shot is at the left net or the right net\n",
        "# the order of numbers and shot types are reversed depending on where the net is\n",
        "shot_items = {\"left\": {}, \"right\": {}}\n",
        "for shot_type, number in product(shot_types.keys(), [str(i) for i in range(100)]):\n",
        "    shot_type_str = shot_types[shot_type]\n",
        "    number_str = \"\".join(numbers[int(n)] for n in number)\n",
        "    \n",
        "    shot_items[\"left\"][shot_type_str + number_str] = (shot_type, int(number))\n",
        "    shot_items[\"right\"][number_str + shot_type_str] = (shot_type, int(number))"
      ],
      "metadata": {
        "id": "jqI9TSpPJht4"
      },
      "execution_count": 5,
      "outputs": []
    },
    {
      "cell_type": "code",
      "source": [
        "def shot_from_drawing(drawing, direction):\n",
        "    \"\"\" Use the lines and curves of a drawing to determine the shot type and jersey number. \"\"\"\n",
        "    item_str = \"\".join(x[0] for x in drawing[\"items\"])\n",
        "    return shot_items[direction][item_str]"
      ],
      "metadata": {
        "id": "YeGi5f-vTnqp"
      },
      "execution_count": 6,
      "outputs": []
    },
    {
      "cell_type": "markdown",
      "source": [
        "# Some Necessary Functions"
      ],
      "metadata": {
        "id": "i2aClNGcpXxy"
      }
    },
    {
      "cell_type": "markdown",
      "source": [
        "Coordinates are determined based on:\n",
        "- x: the coordinate of the drawing that is closest to the net the shot was directed at.\n",
        "- y: the center of the bounding box of the drawing.\n",
        "\n",
        "compute_coord provides the coordinates for the rink and allows for the partial function compute_net_coord for coordinates from the nets."
      ],
      "metadata": {
        "id": "aL5lQ4bMj9Yv"
      }
    },
    {
      "cell_type": "code",
      "source": [
        "def compute_coord(\n",
        "    drawing, bounding_rect, direction, x_offsets=(1, 1), y_offsets=(1, 1), \n",
        "    feature_length=rink_length, feature_width=rink_width,\n",
        "):\n",
        "    \"\"\" \n",
        "    Convert coordinates from a drawing to a rink or net coordinate.\n",
        "\n",
        "    Args:\n",
        "        drawing: dict\n",
        "            One of the values returned from calling get_drawings on a page of a PDF.\n",
        "        \n",
        "        bounding_rect: Rect\n",
        "            Bounding box for the relevant image.\n",
        "\n",
        "        direction: string\n",
        "            Which direction the shot is going (\"left\" or \"right\").\n",
        "        \n",
        "        x_offsets: tuple\n",
        "        y_offsets: tuple\n",
        "            How many pixels included in the image are not a part of the rink/net.\n",
        "            eg) The boards in the rink image occupy 1 pixel.\n",
        "\n",
        "        feature_length: number\n",
        "        feature_width: number\n",
        "            Actual size of a rink/net.\n",
        "\n",
        "    Returns:\n",
        "        numpy array\n",
        "    \"\"\"\n",
        "\n",
        "    x_index = 0 if direction == \"left\" else 2\n",
        "\n",
        "    # need to subtract bounding rect coordinates to force upper left corner to (0, 0)\n",
        "    x = drawing[\"rect\"][x_index] - bounding_rect[0]\n",
        "    y = (drawing[\"rect\"][3] + drawing[\"rect\"][1]) / 2 - bounding_rect[1]\n",
        "\n",
        "    # can't use width/height values from object because they aren't the\n",
        "    # size shown on the pdf\n",
        "    bounding_width = bounding_rect[2] - bounding_rect[0] - np.sum(x_offsets)\n",
        "    bounding_height = bounding_rect[3] - bounding_rect[1] - np.sum(y_offsets)\n",
        "\n",
        "    # convert from image to actual coordinate\n",
        "    coord = (\n",
        "        np.array([x - x_offsets[0], y - y_offsets[0]])\n",
        "        / [bounding_width, bounding_height]\n",
        "        * [feature_length, feature_width]\n",
        "    )\n",
        "\n",
        "    # flip y to go from image coordinates (top left origin) to \n",
        "    # plot coordinates (bottom left origin)\n",
        "    coord[1] = feature_width - coord[1]\n",
        "\n",
        "    return coord\n",
        "\n",
        "\n",
        "compute_net_coord = partial(\n",
        "    compute_coord, \n",
        "    x_offsets=(5, 6),    # extra pixel to post on the right side\n",
        "    y_offsets=(3, 4),    # extra pixel to bottom of net\n",
        "    feature_length=NET_WIDTH,\n",
        "    feature_width=NET_HEIGHT,\n",
        ")"
      ],
      "metadata": {
        "id": "rR14nzvFjSSz"
      },
      "execution_count": 7,
      "outputs": []
    },
    {
      "cell_type": "code",
      "source": [
        "def get_shots(drawings, bounding_rect, is_goal=False):\n",
        "    \"\"\"\n",
        "    Retrieve a list of shot data from all the drawings on the page.\n",
        "\n",
        "    Used for both shots on the rink and goals on the nets.\n",
        "\n",
        "    Values in the list are tuples of:\n",
        "        - direction of the shot (\"left\" or \"right\")\n",
        "        - coordinate of the shot (as a numpy array)\n",
        "        - shot type (\"Goal\", \"Shot\", \"Miss\", \"Block\")\n",
        "        - jersey number of the player who took the shot\n",
        "    \"\"\"\n",
        "\n",
        "    coord_func = compute_net_coord if is_goal else compute_coord\n",
        "\n",
        "    shots = []\n",
        "    for drawing in drawings:\n",
        "        # red shots (1, 0, 0) are directed at the right net, blue (0, 0, 1) at the left\n",
        "        # need to take the x-coordinate closest to the net the shot was directed at\n",
        "        # goals on the nets are always listed to the left\n",
        "        direction = \"left\" if drawing[\"fill\"] == (0, 0, 1) or is_goal else \"right\"\n",
        "\n",
        "        if bounding_rect.contains(drawing[\"rect\"]):\n",
        "            coord = coord_func(drawing, bounding_rect, direction)\n",
        "\n",
        "            shot_type, jersey_number = shot_from_drawing(drawing, direction)\n",
        "\n",
        "            shots.append((direction, coord, shot_type, jersey_number))\n",
        "\n",
        "    return shots"
      ],
      "metadata": {
        "id": "c0Du4q4ieMs5"
      },
      "execution_count": 8,
      "outputs": []
    },
    {
      "cell_type": "code",
      "source": [
        "def page_to_pil(page, zoom=ZOOM, clip=None):\n",
        "    \"\"\" Convert page of PDF to PIL image. \"\"\"\n",
        "    \n",
        "    pix = page.get_pixmap(matrix=fitz.Matrix(zoom, zoom), clip=clip)\n",
        "    img = Image.frombytes(\"RGB\", [pix.width, pix.height], pix.samples)\n",
        "\n",
        "    return img"
      ],
      "metadata": {
        "id": "kqyFOIsFAWLJ"
      },
      "execution_count": 9,
      "outputs": []
    },
    {
      "cell_type": "markdown",
      "source": [
        "Teams are found by OCR on the sections of the PDF that lists the goalie numbers.  \n",
        "GK {#} of {TEAM}"
      ],
      "metadata": {
        "id": "W_WdykYhqoHa"
      }
    },
    {
      "cell_type": "code",
      "source": [
        "def goalie_team_ocr(page, net_rect):\n",
        "    # ensure there's some white space around characters for OCR\n",
        "    x1 = net_rect[0] - 2\n",
        "    x2 = net_rect[2] + 2\n",
        "    y1 = net_rect[-1]\n",
        "    y2 = y1 + 15\n",
        "    \n",
        "    # don't need to run OCR on the whole page, only the section\n",
        "    # where goalies appear\n",
        "    # if this works, goalie will be \"GK {#} of {TEAM}\"\n",
        "    clip = [x1, y1, x2, y2]\n",
        "    img = page_to_pil(page, clip=clip)\n",
        "    goalie = str(((pytesseract.image_to_string(img)))).strip()\n",
        "\n",
        "    # use jersey number of -1 to denote empty net goals\n",
        "    if goalie == \"ENG\":\n",
        "        return -1, None\n",
        "\n",
        "    goalie = goalie.replace(\"0f\", \"of\").replace(\"of\", \" of \")\n",
        "    goalie_details = [x for x in goalie.split(\" \") if x != \"\"]\n",
        "    \n",
        "    try:\n",
        "        jersey_number = goalie_details[1]\n",
        "        team = goalie_details[3]\n",
        "\n",
        "        jersey_number = \"\".join(x for x in jersey_number if x.isdigit())\n",
        "\n",
        "        try:\n",
        "            jersey_number = int(jersey_number)\n",
        "        except ValueError:\n",
        "            jersey_number = -1\n",
        "\n",
        "        return jersey_number, team\n",
        "\n",
        "    except IndexError:\n",
        "        print(\n",
        "            f\"Not enough details found for goalie clipped from {clip}. \"\n",
        "            f\"OCR found '{goalie}'. To retrieve the goalie number and team, \"\n",
        "            \"the string is expected to be of the form GK # of TEAM.\"\n",
        "        )\n",
        "        \n",
        "        return None, None"
      ],
      "metadata": {
        "id": "tx-q_n_xFRwo"
      },
      "execution_count": 10,
      "outputs": []
    },
    {
      "cell_type": "markdown",
      "source": [
        "# PDF to CSV"
      ],
      "metadata": {
        "id": "jlGp0b-iq2ew"
      }
    },
    {
      "cell_type": "markdown",
      "source": [
        "Everything above this section only needs to be run once. If you want to check out multiple games, update the parameters below and run the cells that follow."
      ],
      "metadata": {
        "id": "Sw0WbIMDq6bl"
      }
    },
    {
      "cell_type": "code",
      "source": [
        "url = \"https://www.iihf.com/pdf/92/ihw092a06_77a_3_0\"    #@param {type: \"string\"}"
      ],
      "metadata": {
        "id": "qGg6JVdEFktN"
      },
      "execution_count": 11,
      "outputs": []
    },
    {
      "cell_type": "code",
      "source": [
        "shots_filename = \"\"    #@param {type: \"string\"}\n",
        "goals_filename = \"\"    #@param {type: \"string\"}"
      ],
      "metadata": {
        "id": "yj8xiC3wrsH3"
      },
      "execution_count": 12,
      "outputs": []
    },
    {
      "cell_type": "code",
      "source": [
        "url_filename = url[url.rfind(\"/\") + 1:]\n",
        "shots_filename = shots_filename or f\"{url_filename}_shots.csv\"\n",
        "goals_filename = goals_filename or f\"{url_filename}_goals.csv\"\n",
        "\n",
        "response = requests.get(url)\n",
        "data = BytesIO(response.content)\n",
        "\n",
        "pdf = fitz.open(stream=data)"
      ],
      "metadata": {
        "id": "G4TOcAtdJf6p"
      },
      "execution_count": 13,
      "outputs": []
    },
    {
      "cell_type": "markdown",
      "source": [
        "All the work is done here. I could've avoided looping through the PDF's drawings multiple times with the function calls, but this way felt easier to read and there aren't enough drawings for it to be any kind of a bottleneck."
      ],
      "metadata": {
        "id": "xI8b8UEVrJKV"
      }
    },
    {
      "cell_type": "code",
      "source": [
        "Goal = namedtuple(\"Goal\", [\"Period\", \"Team\", \"Shooter\", \"Opponent\", \"Goalie\", \"X\", \"Y\"])\n",
        "Shot = namedtuple(\"Shot\", [\"Period\", \"Team\", \"Player\", \"Type\", \"X\", \"Y\"])\n",
        "\n",
        "goals = []\n",
        "shots = []\n",
        "\n",
        "# goalies and teams stored for use in visualization\n",
        "goalies = {}\n",
        "teams = {}\n",
        "\n",
        "for page_no, page in enumerate(pdf):\n",
        "    period = page_no + 1\n",
        "\n",
        "    drawings = page.get_drawings()\n",
        "    page_width = page.mediabox_size[0]\n",
        "\n",
        "    goalies[period] = {\"left\": [], \"right\": []}\n",
        "    teams[period] = {\"left\": None, \"right\": None}\n",
        "\n",
        "    nets = {\"left\": [], \"right\": []}\n",
        "\n",
        "    page_image_info = page.get_image_info()\n",
        "\n",
        "    for image_info in page_image_info:\n",
        "        # look below net images for goalie numbers and team names\n",
        "        if image_info[\"width\"] == NET_IMAGE_WIDTH:\n",
        "            net_rect = fitz.Rect(image_info[\"bbox\"])\n",
        "            direction = \"left\" if net_rect[0] < page_width / 2 else \"right\"\n",
        "            shooting_direction = \"left\" if direction == \"right\" else \"right\"\n",
        "\n",
        "            jersey_number, team = goalie_team_ocr(page, net_rect)\n",
        "\n",
        "            nets[direction].append((jersey_number, net_rect))\n",
        "            # avoid replacing team in case of empty net\n",
        "            if teams[period][shooting_direction] is None:\n",
        "                teams[period][shooting_direction] = team\n",
        "            goalies[period][direction].append(jersey_number)\n",
        "\n",
        "    # wait until both teams are found to look for goals and shots\n",
        "\n",
        "    # goals\n",
        "    # look inside net images for goal drawings\n",
        "    for direction, opponent_direction in permutations([\"left\", \"right\"]):\n",
        "        team = teams[period][direction]\n",
        "        opponent = teams[period][opponent_direction]\n",
        "\n",
        "        for goalie_number, net_rect in nets[direction]:\n",
        "            for _, goal_coord, _, shooter_number in get_shots(drawings, net_rect, True):\n",
        "                goals.append(Goal(period, team, shooter_number, opponent, goalie_number, *goal_coord))\n",
        "\n",
        "    # shots\n",
        "    # assume that the widest image is the rink\n",
        "    rink_image_index = np.argmax([x[\"width\"] for x in page_image_info])\n",
        "    rink_rect = fitz.Rect(page_image_info[rink_image_index][\"bbox\"])\n",
        "\n",
        "    # look inside rink image for shot drawings\n",
        "    for direction, coord, shot_type, jersey_number in get_shots(drawings, rink_rect):\n",
        "        # convert to NHL style coordinates\n",
        "        x = coord[0] - rink_length / 2\n",
        "        y = coord[1] - rink_width / 2\n",
        "\n",
        "        # use direction as a fallback if team name isn't found\n",
        "        team = teams.get(period, {}).get(direction, None)\n",
        "        if team is None:\n",
        "            team = direction\n",
        "            \n",
        "        shot = Shot(period, team, jersey_number, shot_type, x, y)\n",
        "        shots.append(shot)"
      ],
      "metadata": {
        "id": "_NxSKcwFEnna"
      },
      "execution_count": 14,
      "outputs": []
    },
    {
      "cell_type": "markdown",
      "source": [
        "I tried to set up the shots CSV so it would with [An Nguyen](https://twitter.com/nguyenank_)'s [shot plotter app](https://shot-plotter.netlify.app/).  However, the coordinates are in feet, not meters as is required for the international rink on the app. The CSV will display on the NHL rink, though some shots will get cut off.  "
      ],
      "metadata": {
        "id": "UVR5dUnyVqD1"
      }
    },
    {
      "cell_type": "code",
      "source": [
        "shots_df = pd.DataFrame(shots)\n",
        "shots_df.to_csv(shots_filename, index=False)\n",
        "\n",
        "goals_df = pd.DataFrame(goals)\n",
        "goals_df.to_csv(goals_filename, index=False)"
      ],
      "metadata": {
        "id": "SD_i_WLALFLL"
      },
      "execution_count": 15,
      "outputs": []
    },
    {
      "cell_type": "markdown",
      "source": [
        "Download the files.  If the dialog box doesn't show up, you can find them in the Files section to the left of the screen."
      ],
      "metadata": {
        "id": "6Aona3L5t_4o"
      }
    },
    {
      "cell_type": "code",
      "source": [
        "files.download(shots_filename)"
      ],
      "metadata": {
        "colab": {
          "base_uri": "https://localhost:8080/",
          "height": 17
        },
        "id": "8d2xYBr1XdhW",
        "outputId": "b1ef6f33-1215-423a-87af-e4f547ba5232"
      },
      "execution_count": 16,
      "outputs": [
        {
          "output_type": "display_data",
          "data": {
            "text/plain": [
              "<IPython.core.display.Javascript object>"
            ],
            "application/javascript": [
              "\n",
              "    async function download(id, filename, size) {\n",
              "      if (!google.colab.kernel.accessAllowed) {\n",
              "        return;\n",
              "      }\n",
              "      const div = document.createElement('div');\n",
              "      const label = document.createElement('label');\n",
              "      label.textContent = `Downloading \"${filename}\": `;\n",
              "      div.appendChild(label);\n",
              "      const progress = document.createElement('progress');\n",
              "      progress.max = size;\n",
              "      div.appendChild(progress);\n",
              "      document.body.appendChild(div);\n",
              "\n",
              "      const buffers = [];\n",
              "      let downloaded = 0;\n",
              "\n",
              "      const channel = await google.colab.kernel.comms.open(id);\n",
              "      // Send a message to notify the kernel that we're ready.\n",
              "      channel.send({})\n",
              "\n",
              "      for await (const message of channel.messages) {\n",
              "        // Send a message to notify the kernel that we're ready.\n",
              "        channel.send({})\n",
              "        if (message.buffers) {\n",
              "          for (const buffer of message.buffers) {\n",
              "            buffers.push(buffer);\n",
              "            downloaded += buffer.byteLength;\n",
              "            progress.value = downloaded;\n",
              "          }\n",
              "        }\n",
              "      }\n",
              "      const blob = new Blob(buffers, {type: 'application/binary'});\n",
              "      const a = document.createElement('a');\n",
              "      a.href = window.URL.createObjectURL(blob);\n",
              "      a.download = filename;\n",
              "      div.appendChild(a);\n",
              "      a.click();\n",
              "      div.remove();\n",
              "    }\n",
              "  "
            ]
          },
          "metadata": {}
        },
        {
          "output_type": "display_data",
          "data": {
            "text/plain": [
              "<IPython.core.display.Javascript object>"
            ],
            "application/javascript": [
              "download(\"download_76b19edc-0e5d-468d-9e56-835d01ef3ceb\", \"ihw092a06_77a_3_0_shots.csv\", 7690)"
            ]
          },
          "metadata": {}
        }
      ]
    },
    {
      "cell_type": "code",
      "source": [
        "files.download(goals_filename)"
      ],
      "metadata": {
        "colab": {
          "base_uri": "https://localhost:8080/",
          "height": 17
        },
        "id": "At8Cr82at4j7",
        "outputId": "c6bc2c92-99f9-4db5-f110-1f6924d3de28"
      },
      "execution_count": 17,
      "outputs": [
        {
          "output_type": "display_data",
          "data": {
            "text/plain": [
              "<IPython.core.display.Javascript object>"
            ],
            "application/javascript": [
              "\n",
              "    async function download(id, filename, size) {\n",
              "      if (!google.colab.kernel.accessAllowed) {\n",
              "        return;\n",
              "      }\n",
              "      const div = document.createElement('div');\n",
              "      const label = document.createElement('label');\n",
              "      label.textContent = `Downloading \"${filename}\": `;\n",
              "      div.appendChild(label);\n",
              "      const progress = document.createElement('progress');\n",
              "      progress.max = size;\n",
              "      div.appendChild(progress);\n",
              "      document.body.appendChild(div);\n",
              "\n",
              "      const buffers = [];\n",
              "      let downloaded = 0;\n",
              "\n",
              "      const channel = await google.colab.kernel.comms.open(id);\n",
              "      // Send a message to notify the kernel that we're ready.\n",
              "      channel.send({})\n",
              "\n",
              "      for await (const message of channel.messages) {\n",
              "        // Send a message to notify the kernel that we're ready.\n",
              "        channel.send({})\n",
              "        if (message.buffers) {\n",
              "          for (const buffer of message.buffers) {\n",
              "            buffers.push(buffer);\n",
              "            downloaded += buffer.byteLength;\n",
              "            progress.value = downloaded;\n",
              "          }\n",
              "        }\n",
              "      }\n",
              "      const blob = new Blob(buffers, {type: 'application/binary'});\n",
              "      const a = document.createElement('a');\n",
              "      a.href = window.URL.createObjectURL(blob);\n",
              "      a.download = filename;\n",
              "      div.appendChild(a);\n",
              "      a.click();\n",
              "      div.remove();\n",
              "    }\n",
              "  "
            ]
          },
          "metadata": {}
        },
        {
          "output_type": "display_data",
          "data": {
            "text/plain": [
              "<IPython.core.display.Javascript object>"
            ],
            "application/javascript": [
              "download(\"download_f0534911-a964-4e4c-86d1-47a716d7afee\", \"ihw092a06_77a_3_0_goals.csv\", 248)"
            ]
          },
          "metadata": {}
        }
      ]
    },
    {
      "cell_type": "markdown",
      "source": [
        "# Visualization"
      ],
      "metadata": {
        "id": "ZxS0rQtvZfrd"
      }
    },
    {
      "cell_type": "markdown",
      "source": [
        "I've tried to create a reasonable approximation of the important details that come from the PDF. The plot can be compared to the image of the PDF to ensure that things ran properly."
      ],
      "metadata": {
        "id": "y65MeI_olgsR"
      }
    },
    {
      "cell_type": "code",
      "source": [
        "light_blue = (0.14, 0.63, 0.85)\n",
        "crease_blue = (0.87, 0.91, 0.97)\n",
        "\n",
        "rink = Rink(\n",
        "    boards={\"length\": 197, \"width\": 98.4, \"thickness\": 0.5}, \n",
        "    nzone={\"length\": 47}, \n",
        "    goal_line={\"x\": 85.48},\n",
        "    faceoff_circle={\"x\": 63.48},\n",
        "    trapezoid={\"visible\": False},\n",
        "    net={\"visible\": False},\n",
        "    blue_line={\"color\": light_blue},\n",
        "    center_dot={\"color\": light_blue},\n",
        "    center_circle={\"color\": light_blue},\n",
        "    crease={\"color\": crease_blue},\n",
        ")\n",
        "\n",
        "shot_types = {\n",
        "    \"Goal\": \"o\",\n",
        "    \"Shot\": \"+\",\n",
        "    \"Miss\": \"-\",\n",
        "    \"Block\": \"<\",\n",
        "}\n",
        "\n",
        "ordinals = {1: \"st\", 2: \"nd\", 3: \"rd\"}"
      ],
      "metadata": {
        "id": "Z0XeW6eWpYwD"
      },
      "execution_count": 18,
      "outputs": []
    },
    {
      "cell_type": "markdown",
      "source": [
        "Only viewing one page at a time.  \n",
        "\n",
        "Change this and re-run the cells following it to view other pages."
      ],
      "metadata": {
        "id": "6oRXPqpRl6dE"
      }
    },
    {
      "cell_type": "code",
      "source": [
        "period =     1#@param {type: \"number\"}"
      ],
      "metadata": {
        "id": "TDRvD_MUqMRa"
      },
      "execution_count": 19,
      "outputs": []
    },
    {
      "cell_type": "code",
      "source": [
        "fig = plt.figure(figsize=(16, 6))\n",
        "\n",
        "gs = fig.add_gridspec(\n",
        "    6, 3, \n",
        "    height_ratios=[0.1, 0.25, 0.1, 0.25, 0.1, 0.2],\n",
        "    width_ratios=[0.15, 0.7, 0.15], \n",
        ")\n",
        "\n",
        "title_ax = fig.add_subplot(gs[0, :])\n",
        "rink_ax = fig.add_subplot(gs[1:, 1])\n",
        "net_axs = {\n",
        "    \"left\": [\n",
        "        fig.add_subplot(gs[1, 0]),\n",
        "        fig.add_subplot(gs[3, 0]),\n",
        "    ],\n",
        "    \"right\": [\n",
        "        fig.add_subplot(gs[1, 2]),\n",
        "        fig.add_subplot(gs[3, 2]),\n",
        "    ],\n",
        "}\n",
        "\n",
        "rink.draw(ax=rink_ax)\n",
        "\n",
        "plot_shots = shots_df.loc[shots_df.Period == period]\n",
        "left_team = teams[period][\"left\"]\n",
        "right_team = teams[period][\"right\"]\n",
        "\n",
        "# annotate the shots on the rink\n",
        "for row in plot_shots.itertuples():\n",
        "    txt = str(row.Player)\n",
        "    shot_type = shot_types[row.Type]\n",
        "\n",
        "    if row.Team == left_team:\n",
        "        color = \"blue\"\n",
        "        txt = shot_type + txt\n",
        "\n",
        "        horizontalalignment = \"left\"\n",
        "    else:\n",
        "        color = \"red\"\n",
        "\n",
        "        if shot_type == \"<\":\n",
        "            shot_type = \">\"\n",
        "        txt = txt + shot_type\n",
        "\n",
        "        horizontalalignment = \"right\"\n",
        "\n",
        "    rink_ax.annotate(txt, (row.X, row.Y), \n",
        "                     c=color, fontsize=8, zorder=101, \n",
        "                     ha=horizontalalignment, va=\"center\",\n",
        "    )\n",
        "\n",
        "# period number at top center\n",
        "title_ax.text(\n",
        "    0.5, 0.5, \n",
        "    f\"{period}{ordinals.get(period, 'th')} Period\", \n",
        "    horizontalalignment=\"center\", verticalalignment=\"center\", \n",
        "    fontsize=12, fontweight=\"bold\"\n",
        ")\n",
        "\n",
        "# arrows indicating the direction teams are playing\n",
        "arrow_params = {\"head_width\": 0.7, \"head_length\": 0.02, \"width\": 0.5, \"facecolor\": \"white\"}\n",
        "title_ax.arrow(0.36, 0.5, 0.05, 0, **arrow_params)\n",
        "title_ax.arrow(0.64, 0.5, -0.05, 0, **arrow_params)\n",
        "title_ax.text(0.37, 0.41, right_team, fontsize=11, fontweight=\"bold\")\n",
        "title_ax.text(0.6, 0.41, left_team, fontsize=11, fontweight=\"bold\")\n",
        "title_ax.axis(\"off\")\n",
        "\n",
        "# the nets on either side\n",
        "for direction, goalie_x, team, color in zip(\n",
        "    (\"left\", \"right\"), (-0.4, 2.5), (right_team, left_team), (\"blue\", \"red\")\n",
        "):\n",
        "    for i in range(2):\n",
        "        net_axs[direction][i].axis(\"off\")\n",
        "\n",
        "    for i, goalie in enumerate(goalies[period][direction]):\n",
        "        ax = net_axs[direction][i]\n",
        "        \n",
        "        ax.plot([0, 0, 6, 6], [0, 4, 4, 0], color=\"black\")\n",
        "        ax.plot([-0.4, 6.4], [0, 0], color=\"black\")\n",
        "\n",
        "        if goalie == -1:\n",
        "            empty_net_x = 5 if goalie_x == 2.5 else goalie_x\n",
        "            ax.text(empty_net_x, -0.8, \"ENG\", fontsize=9)\n",
        "        else:\n",
        "            ax.text(goalie_x, -0.8, f\"GK  {goalie} of {team}\", fontsize=9)\n",
        "\n",
        "        plot_goals = goals_df.loc[\n",
        "            (goals_df.Period == period) \n",
        "            & (goals_df.Opponent == team)\n",
        "            & (goals_df.Goalie == goalie)\n",
        "        ]\n",
        "        for row in plot_goals.itertuples():\n",
        "            txt = f\"o{row.Shooter}\"\n",
        "            \n",
        "            ax.annotate(txt, (row.X, row.Y), \n",
        "                        c=color, fontsize=8, zorder=101,\n",
        "                        ha=\"left\", va=\"center\",\n",
        "            )\n",
        "\n",
        "\n",
        "fig.set_facecolor(\"white\")"
      ],
      "metadata": {
        "colab": {
          "base_uri": "https://localhost:8080/",
          "height": 351
        },
        "id": "e4UwYpRHiye7",
        "outputId": "7cadf2b5-3bc4-429b-ee51-ce4d261ec502"
      },
      "execution_count": 20,
      "outputs": [
        {
          "output_type": "display_data",
          "data": {
            "text/plain": [
              "<Figure size 1152x432 with 6 Axes>"
            ],
            "image/png": "[encoded data removed]"
          },
          "metadata": {}
        }
      ]
    },
    {
      "cell_type": "code",
      "source": [
        "page = pdf.load_page(period - 1)\n",
        "page_to_pil(page, 1.1)"
      ],
      "metadata": {
        "colab": {
          "base_uri": "https://localhost:8080/",
          "height": 672
        },
        "id": "fwDxo97wAuIU",
        "outputId": "efe55f0c-3653-4314-88de-c74a7e8b40fe"
      },
      "execution_count": 21,
      "outputs": [
        {
          "output_type": "execute_result",
          "data": {
            "text/plain": [
              "<PIL.Image.Image image mode=RGB size=927x655 at 0x7FE2A34F6410>"
            ],
            "image/png": "[encoded data removed]"
          },
          "metadata": {},
          "execution_count": 21
        }
      ]
    },
    {
      "cell_type": "code",
      "source": [
        ""
      ],
      "metadata": {
        "id": "zDz03uFgZHb2"
      },
      "execution_count": 21,
      "outputs": []
    }
  ]
}