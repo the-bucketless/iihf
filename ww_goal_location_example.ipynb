{
  "nbformat": 4,
  "nbformat_minor": 0,
  "metadata": {
    "colab": {
      "provenance": [],
      "collapsed_sections": [],
      "toc_visible": true,
      "authorship_tag": "ABX9TyOFi0WaJjNB1bb5JKlpk+aZ",
      "include_colab_link": true
    },
    "kernelspec": {
      "name": "python3",
      "display_name": "Python 3"
    },
    "language_info": {
      "name": "python"
    }
  },
  "cells": [
    {
      "cell_type": "markdown",
      "metadata": {
        "id": "view-in-github",
        "colab_type": "text"
      },
      "source": [
        "<a href=\"https://colab.research.google.com/github/the-bucketless/iihf/blob/main/ww_goal_location_example.ipynb\" target=\"_parent\"><img src=\"https://colab.research.google.com/assets/colab-badge.svg\" alt=\"Open In Colab\"/></a>"
      ]
    },
    {
      "cell_type": "markdown",
      "source": [
        "# Goal Locations from Women's Worlds  "
      ],
      "metadata": {
        "id": "DhV0VUmxmR9P"
      }
    },
    {
      "cell_type": "markdown",
      "source": [
        "This notebook is meant as a quick and simple example of how the IIHF data found in my [github repo](https://github.com/the-bucketless/iihf.git) can be used. It'll look at where in the net goals from the Women's Worlds have been scored over the years."
      ],
      "metadata": {
        "id": "NbHoAA-Rmc4Y"
      }
    },
    {
      "cell_type": "markdown",
      "source": [
        "## Pulling in the Data"
      ],
      "metadata": {
        "id": "Rewt0nolm7Z3"
      }
    },
    {
      "cell_type": "markdown",
      "source": [
        "The first step is to grab the data from the repo. The following cell will pull in everything from the repo (including this notebook because recursion is fun). Afterward, the files can be located in the pane to the left."
      ],
      "metadata": {
        "id": "ef39_YS1m-WA"
      }
    },
    {
      "cell_type": "code",
      "execution_count": 1,
      "metadata": {
        "colab": {
          "base_uri": "https://localhost:8080/"
        },
        "id": "pP7xcHmDKj7E",
        "outputId": "0466124a-1867-4072-90ab-45d6cbcdfdcf"
      },
      "outputs": [
        {
          "output_type": "stream",
          "name": "stdout",
          "text": [
            "Cloning into 'iihf'...\n",
            "remote: Enumerating objects: 890, done.\u001b[K\n",
            "remote: Counting objects: 100% (283/283), done.\u001b[K\n",
            "remote: Compressing objects: 100% (178/178), done.\u001b[K\n",
            "remote: Total 890 (delta 129), reused 246 (delta 105), pack-reused 607\u001b[K\n",
            "Receiving objects: 100% (890/890), 6.23 MiB | 8.02 MiB/s, done.\n",
            "Resolving deltas: 100% (451/451), done.\n"
          ]
        }
      ],
      "source": [
        "!git clone https://github.com/the-bucketless/iihf.git"
      ]
    },
    {
      "cell_type": "markdown",
      "source": [
        "## Imports"
      ],
      "metadata": {
        "id": "czHaw5Qwnnou"
      }
    },
    {
      "cell_type": "code",
      "source": [
        "from glob import glob\n",
        "import matplotlib.pyplot as plt\n",
        "import pandas as pd\n",
        "import seaborn as sns"
      ],
      "metadata": {
        "id": "qAnESV7BKqKV"
      },
      "execution_count": 2,
      "outputs": []
    },
    {
      "cell_type": "markdown",
      "source": [
        "## DataFrame of Relevant Data"
      ],
      "metadata": {
        "id": "vEq9x9oWnsOU"
      }
    },
    {
      "cell_type": "markdown",
      "source": [
        "Now that all the data can be easily accessed, let's put anything needed in a pandas DataFrame. For this example, the only files we need are the goals files from all the Women's World Championships."
      ],
      "metadata": {
        "id": "Gekyg6e5n3p7"
      }
    },
    {
      "cell_type": "code",
      "source": [
        "# The goals files have file names of the form goals{year}.\n",
        "# We only need the top level Women's Worlds tournaments\n",
        "# which are in the ww/ww directory.\n",
        "ww_files = glob(\"/content/iihf/data/ww/ww/goals*.csv\")\n",
        "\n",
        "# We'll concatenate all of the csv files into a single DataFrame \n",
        "# while keeping track of which year the goals are from.\n",
        "df = pd.concat(\n",
        "    [\n",
        "        pd.read_csv(ww_file)\n",
        "        # Strip any non-numeric characters from the file path\n",
        "        # to add a column for what year the goals are from.\n",
        "        .assign(year=int(\"\".join(c for c in ww_file if c.isdigit())))\n",
        "        for ww_file in ww_files\n",
        "    ],\n",
        "    ignore_index=True,\n",
        ")"
      ],
      "metadata": {
        "id": "tccThd_GKzzp"
      },
      "execution_count": 3,
      "outputs": []
    },
    {
      "cell_type": "markdown",
      "source": [
        "## Checking the Data"
      ],
      "metadata": {
        "id": "FTlF3npVpThz"
      }
    },
    {
      "cell_type": "markdown",
      "source": [
        "With our DataFrame assembled, we can check out what the data looks like. Let's see what the first goal from every tournament was."
      ],
      "metadata": {
        "id": "elUs6o6zpXsX"
      }
    },
    {
      "cell_type": "code",
      "source": [
        "ww_by_year = df.groupby(\"year\", as_index=False)\n",
        "\n",
        "ww_by_year.first()"
      ],
      "metadata": {
        "colab": {
          "base_uri": "https://localhost:8080/",
          "height": 207
        },
        "id": "0zrpfs6nldni",
        "outputId": "bbb6fbb0-98ca-404b-b522-c0b3b33eba7b"
      },
      "execution_count": 4,
      "outputs": [
        {
          "output_type": "execute_result",
          "data": {
            "text/plain": [
              "   year                                   shot_chart_url  period team  \\\n",
              "0  2019  https://www.iihf.com//pdf/510/ihw510b01_77a_2_0     2.0  GER   \n",
              "1  2021  https://www.iihf.com//pdf/929/ihw929b01_77a_3_0     1.0  CZE   \n",
              "2  2022  https://www.iihf.com//pdf/164/ihw164a01_77a_3_0     1.0  USA   \n",
              "\n",
              "   shooter_number opponent  goalie_number         x         y team1 team2  \\\n",
              "0            16.0      SWE            1.0  4.002305  2.135536   GER   SWE   \n",
              "1             9.0      DEN           30.0  1.615729  0.907237   CZE   DEN   \n",
              "2            12.0      JPN           30.0  5.344756  3.632701   JPN   USA   \n",
              "\n",
              "                                            game_url  \n",
              "0  https://www.iihf.com//en/events/2019/ww/gamece...  \n",
              "1  https://www.iihf.com//en/events/2021/ww/gamece...  \n",
              "2  https://www.iihf.com//en/events/2022/ww/gamece...  "
            ],
            "text/html": [
              "\n",
              "  <div id=\"df-7f8d7ffa-d744-4d2f-9248-8b4c54709163\">\n",
              "    <div class=\"colab-df-container\">\n",
              "      <div>\n",
              "<style scoped>\n",
              "    .dataframe tbody tr th:only-of-type {\n",
              "        vertical-align: middle;\n",
              "    }\n",
              "\n",
              "    .dataframe tbody tr th {\n",
              "        vertical-align: top;\n",
              "    }\n",
              "\n",
              "    .dataframe thead th {\n",
              "        text-align: right;\n",
              "    }\n",
              "</style>\n",
              "<table border=\"1\" class=\"dataframe\">\n",
              "  <thead>\n",
              "    <tr style=\"text-align: right;\">\n",
              "      <th></th>\n",
              "      <th>year</th>\n",
              "      <th>shot_chart_url</th>\n",
              "      <th>period</th>\n",
              "      <th>team</th>\n",
              "      <th>shooter_number</th>\n",
              "      <th>opponent</th>\n",
              "      <th>goalie_number</th>\n",
              "      <th>x</th>\n",
              "      <th>y</th>\n",
              "      <th>team1</th>\n",
              "      <th>team2</th>\n",
              "      <th>game_url</th>\n",
              "    </tr>\n",
              "  </thead>\n",
              "  <tbody>\n",
              "    <tr>\n",
              "      <th>0</th>\n",
              "      <td>2019</td>\n",
              "      <td>https://www.iihf.com//pdf/510/ihw510b01_77a_2_0</td>\n",
              "      <td>2.0</td>\n",
              "      <td>GER</td>\n",
              "      <td>16.0</td>\n",
              "      <td>SWE</td>\n",
              "      <td>1.0</td>\n",
              "      <td>4.002305</td>\n",
              "      <td>2.135536</td>\n",
              "      <td>GER</td>\n",
              "      <td>SWE</td>\n",
              "      <td>https://www.iihf.com//en/events/2019/ww/gamece...</td>\n",
              "    </tr>\n",
              "    <tr>\n",
              "      <th>1</th>\n",
              "      <td>2021</td>\n",
              "      <td>https://www.iihf.com//pdf/929/ihw929b01_77a_3_0</td>\n",
              "      <td>1.0</td>\n",
              "      <td>CZE</td>\n",
              "      <td>9.0</td>\n",
              "      <td>DEN</td>\n",
              "      <td>30.0</td>\n",
              "      <td>1.615729</td>\n",
              "      <td>0.907237</td>\n",
              "      <td>CZE</td>\n",
              "      <td>DEN</td>\n",
              "      <td>https://www.iihf.com//en/events/2021/ww/gamece...</td>\n",
              "    </tr>\n",
              "    <tr>\n",
              "      <th>2</th>\n",
              "      <td>2022</td>\n",
              "      <td>https://www.iihf.com//pdf/164/ihw164a01_77a_3_0</td>\n",
              "      <td>1.0</td>\n",
              "      <td>USA</td>\n",
              "      <td>12.0</td>\n",
              "      <td>JPN</td>\n",
              "      <td>30.0</td>\n",
              "      <td>5.344756</td>\n",
              "      <td>3.632701</td>\n",
              "      <td>JPN</td>\n",
              "      <td>USA</td>\n",
              "      <td>https://www.iihf.com//en/events/2022/ww/gamece...</td>\n",
              "    </tr>\n",
              "  </tbody>\n",
              "</table>\n",
              "</div>\n",
              "      <button class=\"colab-df-convert\" onclick=\"convertToInteractive('df-7f8d7ffa-d744-4d2f-9248-8b4c54709163')\"\n",
              "              title=\"Convert this dataframe to an interactive table.\"\n",
              "              style=\"display:none;\">\n",
              "        \n",
              "  <svg xmlns=\"http://www.w3.org/2000/svg\" height=\"24px\"viewBox=\"0 0 24 24\"\n",
              "       width=\"24px\">\n",
              "    <path d=\"M0 0h24v24H0V0z\" fill=\"none\"/>\n",
              "    <path d=\"M18.56 5.44l.94 2.06.94-2.06 2.06-.94-2.06-.94-.94-2.06-.94 2.06-2.06.94zm-11 1L8.5 8.5l.94-2.06 2.06-.94-2.06-.94L8.5 2.5l-.94 2.06-2.06.94zm10 10l.94 2.06.94-2.06 2.06-.94-2.06-.94-.94-2.06-.94 2.06-2.06.94z\"/><path d=\"M17.41 7.96l-1.37-1.37c-.4-.4-.92-.59-1.43-.59-.52 0-1.04.2-1.43.59L10.3 9.45l-7.72 7.72c-.78.78-.78 2.05 0 2.83L4 21.41c.39.39.9.59 1.41.59.51 0 1.02-.2 1.41-.59l7.78-7.78 2.81-2.81c.8-.78.8-2.07 0-2.86zM5.41 20L4 18.59l7.72-7.72 1.47 1.35L5.41 20z\"/>\n",
              "  </svg>\n",
              "      </button>\n",
              "      \n",
              "  <style>\n",
              "    .colab-df-container {\n",
              "      display:flex;\n",
              "      flex-wrap:wrap;\n",
              "      gap: 12px;\n",
              "    }\n",
              "\n",
              "    .colab-df-convert {\n",
              "      background-color: #E8F0FE;\n",
              "      border: none;\n",
              "      border-radius: 50%;\n",
              "      cursor: pointer;\n",
              "      display: none;\n",
              "      fill: #1967D2;\n",
              "      height: 32px;\n",
              "      padding: 0 0 0 0;\n",
              "      width: 32px;\n",
              "    }\n",
              "\n",
              "    .colab-df-convert:hover {\n",
              "      background-color: #E2EBFA;\n",
              "      box-shadow: 0px 1px 2px rgba(60, 64, 67, 0.3), 0px 1px 3px 1px rgba(60, 64, 67, 0.15);\n",
              "      fill: #174EA6;\n",
              "    }\n",
              "\n",
              "    [theme=dark] .colab-df-convert {\n",
              "      background-color: #3B4455;\n",
              "      fill: #D2E3FC;\n",
              "    }\n",
              "\n",
              "    [theme=dark] .colab-df-convert:hover {\n",
              "      background-color: #434B5C;\n",
              "      box-shadow: 0px 1px 3px 1px rgba(0, 0, 0, 0.15);\n",
              "      filter: drop-shadow(0px 1px 2px rgba(0, 0, 0, 0.3));\n",
              "      fill: #FFFFFF;\n",
              "    }\n",
              "  </style>\n",
              "\n",
              "      <script>\n",
              "        const buttonEl =\n",
              "          document.querySelector('#df-7f8d7ffa-d744-4d2f-9248-8b4c54709163 button.colab-df-convert');\n",
              "        buttonEl.style.display =\n",
              "          google.colab.kernel.accessAllowed ? 'block' : 'none';\n",
              "\n",
              "        async function convertToInteractive(key) {\n",
              "          const element = document.querySelector('#df-7f8d7ffa-d744-4d2f-9248-8b4c54709163');\n",
              "          const dataTable =\n",
              "            await google.colab.kernel.invokeFunction('convertToInteractive',\n",
              "                                                     [key], {});\n",
              "          if (!dataTable) return;\n",
              "\n",
              "          const docLinkHtml = 'Like what you see? Visit the ' +\n",
              "            '<a target=\"_blank\" href=https://colab.research.google.com/notebooks/data_table.ipynb>data table notebook</a>'\n",
              "            + ' to learn more about interactive tables.';\n",
              "          element.innerHTML = '';\n",
              "          dataTable['output_type'] = 'display_data';\n",
              "          await google.colab.output.renderOutput(dataTable, element);\n",
              "          const docLink = document.createElement('div');\n",
              "          docLink.innerHTML = docLinkHtml;\n",
              "          element.appendChild(docLink);\n",
              "        }\n",
              "      </script>\n",
              "    </div>\n",
              "  </div>\n",
              "  "
            ]
          },
          "metadata": {},
          "execution_count": 4
        }
      ]
    },
    {
      "cell_type": "markdown",
      "source": [
        "We can also look at the goals per game at each tournament."
      ],
      "metadata": {
        "id": "TqWqQA86qE0-"
      }
    },
    {
      "cell_type": "code",
      "source": [
        "(\n",
        "    ww_by_year\n",
        "    .agg(\n",
        "        n_goals=(\"year\", \"count\"), \n",
        "        n_games=(\"game_url\", \"nunique\"),\n",
        "    )\n",
        "    .assign(goals_per_game=lambda df_: df_.n_goals / df_.n_games)\n",
        ")"
      ],
      "metadata": {
        "colab": {
          "base_uri": "https://localhost:8080/",
          "height": 143
        },
        "id": "jB5x4daTklqd",
        "outputId": "6528ee13-c071-4b6f-f1c5-871d4a5a5629"
      },
      "execution_count": 5,
      "outputs": [
        {
          "output_type": "execute_result",
          "data": {
            "text/plain": [
              "   year  n_goals  n_games  goals_per_game\n",
              "0  2019      158       29        5.448276\n",
              "1  2021      145       31        4.677419\n",
              "2  2022      188       30        6.266667"
            ],
            "text/html": [
              "\n",
              "  <div id=\"df-6b4e53bc-f76e-4720-a9cb-29d3aedcdfdf\">\n",
              "    <div class=\"colab-df-container\">\n",
              "      <div>\n",
              "<style scoped>\n",
              "    .dataframe tbody tr th:only-of-type {\n",
              "        vertical-align: middle;\n",
              "    }\n",
              "\n",
              "    .dataframe tbody tr th {\n",
              "        vertical-align: top;\n",
              "    }\n",
              "\n",
              "    .dataframe thead th {\n",
              "        text-align: right;\n",
              "    }\n",
              "</style>\n",
              "<table border=\"1\" class=\"dataframe\">\n",
              "  <thead>\n",
              "    <tr style=\"text-align: right;\">\n",
              "      <th></th>\n",
              "      <th>year</th>\n",
              "      <th>n_goals</th>\n",
              "      <th>n_games</th>\n",
              "      <th>goals_per_game</th>\n",
              "    </tr>\n",
              "  </thead>\n",
              "  <tbody>\n",
              "    <tr>\n",
              "      <th>0</th>\n",
              "      <td>2019</td>\n",
              "      <td>158</td>\n",
              "      <td>29</td>\n",
              "      <td>5.448276</td>\n",
              "    </tr>\n",
              "    <tr>\n",
              "      <th>1</th>\n",
              "      <td>2021</td>\n",
              "      <td>145</td>\n",
              "      <td>31</td>\n",
              "      <td>4.677419</td>\n",
              "    </tr>\n",
              "    <tr>\n",
              "      <th>2</th>\n",
              "      <td>2022</td>\n",
              "      <td>188</td>\n",
              "      <td>30</td>\n",
              "      <td>6.266667</td>\n",
              "    </tr>\n",
              "  </tbody>\n",
              "</table>\n",
              "</div>\n",
              "      <button class=\"colab-df-convert\" onclick=\"convertToInteractive('df-6b4e53bc-f76e-4720-a9cb-29d3aedcdfdf')\"\n",
              "              title=\"Convert this dataframe to an interactive table.\"\n",
              "              style=\"display:none;\">\n",
              "        \n",
              "  <svg xmlns=\"http://www.w3.org/2000/svg\" height=\"24px\"viewBox=\"0 0 24 24\"\n",
              "       width=\"24px\">\n",
              "    <path d=\"M0 0h24v24H0V0z\" fill=\"none\"/>\n",
              "    <path d=\"M18.56 5.44l.94 2.06.94-2.06 2.06-.94-2.06-.94-.94-2.06-.94 2.06-2.06.94zm-11 1L8.5 8.5l.94-2.06 2.06-.94-2.06-.94L8.5 2.5l-.94 2.06-2.06.94zm10 10l.94 2.06.94-2.06 2.06-.94-2.06-.94-.94-2.06-.94 2.06-2.06.94z\"/><path d=\"M17.41 7.96l-1.37-1.37c-.4-.4-.92-.59-1.43-.59-.52 0-1.04.2-1.43.59L10.3 9.45l-7.72 7.72c-.78.78-.78 2.05 0 2.83L4 21.41c.39.39.9.59 1.41.59.51 0 1.02-.2 1.41-.59l7.78-7.78 2.81-2.81c.8-.78.8-2.07 0-2.86zM5.41 20L4 18.59l7.72-7.72 1.47 1.35L5.41 20z\"/>\n",
              "  </svg>\n",
              "      </button>\n",
              "      \n",
              "  <style>\n",
              "    .colab-df-container {\n",
              "      display:flex;\n",
              "      flex-wrap:wrap;\n",
              "      gap: 12px;\n",
              "    }\n",
              "\n",
              "    .colab-df-convert {\n",
              "      background-color: #E8F0FE;\n",
              "      border: none;\n",
              "      border-radius: 50%;\n",
              "      cursor: pointer;\n",
              "      display: none;\n",
              "      fill: #1967D2;\n",
              "      height: 32px;\n",
              "      padding: 0 0 0 0;\n",
              "      width: 32px;\n",
              "    }\n",
              "\n",
              "    .colab-df-convert:hover {\n",
              "      background-color: #E2EBFA;\n",
              "      box-shadow: 0px 1px 2px rgba(60, 64, 67, 0.3), 0px 1px 3px 1px rgba(60, 64, 67, 0.15);\n",
              "      fill: #174EA6;\n",
              "    }\n",
              "\n",
              "    [theme=dark] .colab-df-convert {\n",
              "      background-color: #3B4455;\n",
              "      fill: #D2E3FC;\n",
              "    }\n",
              "\n",
              "    [theme=dark] .colab-df-convert:hover {\n",
              "      background-color: #434B5C;\n",
              "      box-shadow: 0px 1px 3px 1px rgba(0, 0, 0, 0.15);\n",
              "      filter: drop-shadow(0px 1px 2px rgba(0, 0, 0, 0.3));\n",
              "      fill: #FFFFFF;\n",
              "    }\n",
              "  </style>\n",
              "\n",
              "      <script>\n",
              "        const buttonEl =\n",
              "          document.querySelector('#df-6b4e53bc-f76e-4720-a9cb-29d3aedcdfdf button.colab-df-convert');\n",
              "        buttonEl.style.display =\n",
              "          google.colab.kernel.accessAllowed ? 'block' : 'none';\n",
              "\n",
              "        async function convertToInteractive(key) {\n",
              "          const element = document.querySelector('#df-6b4e53bc-f76e-4720-a9cb-29d3aedcdfdf');\n",
              "          const dataTable =\n",
              "            await google.colab.kernel.invokeFunction('convertToInteractive',\n",
              "                                                     [key], {});\n",
              "          if (!dataTable) return;\n",
              "\n",
              "          const docLinkHtml = 'Like what you see? Visit the ' +\n",
              "            '<a target=\"_blank\" href=https://colab.research.google.com/notebooks/data_table.ipynb>data table notebook</a>'\n",
              "            + ' to learn more about interactive tables.';\n",
              "          element.innerHTML = '';\n",
              "          dataTable['output_type'] = 'display_data';\n",
              "          await google.colab.output.renderOutput(dataTable, element);\n",
              "          const docLink = document.createElement('div');\n",
              "          docLink.innerHTML = docLinkHtml;\n",
              "          element.appendChild(docLink);\n",
              "        }\n",
              "      </script>\n",
              "    </div>\n",
              "  </div>\n",
              "  "
            ]
          },
          "metadata": {},
          "execution_count": 5
        }
      ]
    },
    {
      "cell_type": "markdown",
      "source": [
        "And we should take a look at what the coordinates of the goals look like."
      ],
      "metadata": {
        "id": "BrJx5WC3rC_R"
      }
    },
    {
      "cell_type": "code",
      "source": [
        "plt.plot(df.x, df.y, \".\");"
      ],
      "metadata": {
        "colab": {
          "base_uri": "https://localhost:8080/",
          "height": 265
        },
        "id": "6R_JxvVOq-AX",
        "outputId": "2c40d0dd-8b72-400a-cfa4-754fd35b29dc"
      },
      "execution_count": 6,
      "outputs": [
        {
          "output_type": "display_data",
          "data": {
            "text/plain": [
              "<Figure size 432x288 with 1 Axes>"
            ],
            "image/png": "[encoded data removed]"
          },
          "metadata": {
            "needs_background": "light"
          }
        }
      ]
    },
    {
      "cell_type": "markdown",
      "source": [
        "The dots should be in the range of 0 to 6 on the x-axis and 0 to 4 on the y-axis (a net is 6x4'). However, there are a couple shot charts from the IIHF that appear to have goals outside the net. That could very well mean that I'm misinterpreting how these are being recorded in their PDFs, but I haven't figured out how.  \n",
        "\n",
        "Also, it may have been a better idea to name the columns y and z instead of x and y to allow for them to match the coordinates typically used on a rink. But at least this way is sensible for how we're going to plot things."
      ],
      "metadata": {
        "id": "ksPtgYkQrM9B"
      }
    },
    {
      "cell_type": "markdown",
      "source": [
        "## Drawing a Net"
      ],
      "metadata": {
        "id": "wtj7baAcqUtk"
      }
    },
    {
      "cell_type": "markdown",
      "source": [
        "Rather than just plot a bunch of points on a blank space, let's draw the goals between the posts of a net. There are a few ways to do this, I'm going to do it by setting the corner coordinates of the posts and using matplotlib's fill function to color them in. I'm also leaving square corners on the net instead of elbows for simplicity.  We're going to need to do this a few times, so we'll throw it in a function that we can call each time."
      ],
      "metadata": {
        "id": "v3BJC04FqW68"
      }
    },
    {
      "cell_type": "code",
      "source": [
        "NET_WIDTH = 6\n",
        "NET_HEIGHT = 4\n",
        "POST_WIDTH = (2 + 3 / 8) / 12\n",
        "\n",
        "\n",
        "def draw_net(ax=None):\n",
        "    if ax is None:\n",
        "        ax = plt.gca()\n",
        "\n",
        "    # The posts are drawn going from bottom left to the top \n",
        "    # then across and, eventually, all the way back around.\n",
        "    ax.fill(\n",
        "        [\n",
        "            -POST_WIDTH, -POST_WIDTH, NET_WIDTH + POST_WIDTH, NET_WIDTH + POST_WIDTH, \n",
        "            NET_WIDTH, NET_WIDTH, 0, 0,\n",
        "        ],\n",
        "        [\n",
        "            0, NET_HEIGHT + POST_WIDTH, NET_HEIGHT + POST_WIDTH, 0,\n",
        "            0, NET_HEIGHT, NET_HEIGHT, 0,\n",
        "        ],\n",
        "        color=\"red\",\n",
        "    )"
      ],
      "metadata": {
        "id": "rzQ59g0GPVDL"
      },
      "execution_count": 7,
      "outputs": []
    },
    {
      "cell_type": "code",
      "source": [
        "draw_net()"
      ],
      "metadata": {
        "colab": {
          "base_uri": "https://localhost:8080/",
          "height": 265
        },
        "id": "mW55m5A2QvPI",
        "outputId": "3ed09f7d-b7bd-495b-fdf1-188b30bec599"
      },
      "execution_count": 8,
      "outputs": [
        {
          "output_type": "display_data",
          "data": {
            "text/plain": [
              "<Figure size 432x288 with 1 Axes>"
            ],
            "image/png": "[encoded data removed]"
          },
          "metadata": {
            "needs_background": "light"
          }
        }
      ]
    },
    {
      "cell_type": "markdown",
      "source": [
        "Before we get to the goals by year, let's make sure we're plotting things in the right spot. We'll grab the goals from the 2022 final and make sure they match the goals as they're shown in the IIHF PDF. This can be accessed by the link in the shot_chart_url column. All the goals occurred in the 2nd period."
      ],
      "metadata": {
        "id": "pWFX3ocZtXa5"
      }
    },
    {
      "cell_type": "code",
      "source": [
        "# Games are scraped in the order their URLs are found. Typically, \n",
        "# this should result in the final being the last game found in the \n",
        "# DataFrame, but it might not always be a safe assumption to make.\n",
        "last_game_url = df.query(\"year == 2022\").game_url.iloc[-1]\n",
        "last_game = df.query(\"game_url == @last_game_url\")\n",
        "\n",
        "last_game"
      ],
      "metadata": {
        "colab": {
          "base_uri": "https://localhost:8080/",
          "height": 207
        },
        "id": "BAEoA2VbMKbk",
        "outputId": "d8cd0103-f721-407d-cbf4-97525c61e496"
      },
      "execution_count": 9,
      "outputs": [
        {
          "output_type": "execute_result",
          "data": {
            "text/plain": [
              "                                      shot_chart_url  period team  \\\n",
              "488  https://www.iihf.com//pdf/164/ihw164131_77a_3_0     2.0  USA   \n",
              "489  https://www.iihf.com//pdf/164/ihw164131_77a_3_0     2.0  CAN   \n",
              "490  https://www.iihf.com//pdf/164/ihw164131_77a_3_0     2.0  CAN   \n",
              "\n",
              "     shooter_number opponent  goalie_number         x         y team1 team2  \\\n",
              "488            11.0      CAN           35.0  4.449788  0.485183   USA   CAN   \n",
              "489            19.0      USA           29.0  5.605786  0.293087   USA   CAN   \n",
              "490            19.0      USA           29.0  5.270175  3.325452   USA   CAN   \n",
              "\n",
              "                                              game_url  year  \n",
              "488  https://www.iihf.com//en/events/2022/ww/gamece...  2022  \n",
              "489  https://www.iihf.com//en/events/2022/ww/gamece...  2022  \n",
              "490  https://www.iihf.com//en/events/2022/ww/gamece...  2022  "
            ],
            "text/html": [
              "\n",
              "  <div id=\"df-3d53e754-abba-44ba-96a8-e1ef45f3129f\">\n",
              "    <div class=\"colab-df-container\">\n",
              "      <div>\n",
              "<style scoped>\n",
              "    .dataframe tbody tr th:only-of-type {\n",
              "        vertical-align: middle;\n",
              "    }\n",
              "\n",
              "    .dataframe tbody tr th {\n",
              "        vertical-align: top;\n",
              "    }\n",
              "\n",
              "    .dataframe thead th {\n",
              "        text-align: right;\n",
              "    }\n",
              "</style>\n",
              "<table border=\"1\" class=\"dataframe\">\n",
              "  <thead>\n",
              "    <tr style=\"text-align: right;\">\n",
              "      <th></th>\n",
              "      <th>shot_chart_url</th>\n",
              "      <th>period</th>\n",
              "      <th>team</th>\n",
              "      <th>shooter_number</th>\n",
              "      <th>opponent</th>\n",
              "      <th>goalie_number</th>\n",
              "      <th>x</th>\n",
              "      <th>y</th>\n",
              "      <th>team1</th>\n",
              "      <th>team2</th>\n",
              "      <th>game_url</th>\n",
              "      <th>year</th>\n",
              "    </tr>\n",
              "  </thead>\n",
              "  <tbody>\n",
              "    <tr>\n",
              "      <th>488</th>\n",
              "      <td>https://www.iihf.com//pdf/164/ihw164131_77a_3_0</td>\n",
              "      <td>2.0</td>\n",
              "      <td>USA</td>\n",
              "      <td>11.0</td>\n",
              "      <td>CAN</td>\n",
              "      <td>35.0</td>\n",
              "      <td>4.449788</td>\n",
              "      <td>0.485183</td>\n",
              "      <td>USA</td>\n",
              "      <td>CAN</td>\n",
              "      <td>https://www.iihf.com//en/events/2022/ww/gamece...</td>\n",
              "      <td>2022</td>\n",
              "    </tr>\n",
              "    <tr>\n",
              "      <th>489</th>\n",
              "      <td>https://www.iihf.com//pdf/164/ihw164131_77a_3_0</td>\n",
              "      <td>2.0</td>\n",
              "      <td>CAN</td>\n",
              "      <td>19.0</td>\n",
              "      <td>USA</td>\n",
              "      <td>29.0</td>\n",
              "      <td>5.605786</td>\n",
              "      <td>0.293087</td>\n",
              "      <td>USA</td>\n",
              "      <td>CAN</td>\n",
              "      <td>https://www.iihf.com//en/events/2022/ww/gamece...</td>\n",
              "      <td>2022</td>\n",
              "    </tr>\n",
              "    <tr>\n",
              "      <th>490</th>\n",
              "      <td>https://www.iihf.com//pdf/164/ihw164131_77a_3_0</td>\n",
              "      <td>2.0</td>\n",
              "      <td>CAN</td>\n",
              "      <td>19.0</td>\n",
              "      <td>USA</td>\n",
              "      <td>29.0</td>\n",
              "      <td>5.270175</td>\n",
              "      <td>3.325452</td>\n",
              "      <td>USA</td>\n",
              "      <td>CAN</td>\n",
              "      <td>https://www.iihf.com//en/events/2022/ww/gamece...</td>\n",
              "      <td>2022</td>\n",
              "    </tr>\n",
              "  </tbody>\n",
              "</table>\n",
              "</div>\n",
              "      <button class=\"colab-df-convert\" onclick=\"convertToInteractive('df-3d53e754-abba-44ba-96a8-e1ef45f3129f')\"\n",
              "              title=\"Convert this dataframe to an interactive table.\"\n",
              "              style=\"display:none;\">\n",
              "        \n",
              "  <svg xmlns=\"http://www.w3.org/2000/svg\" height=\"24px\"viewBox=\"0 0 24 24\"\n",
              "       width=\"24px\">\n",
              "    <path d=\"M0 0h24v24H0V0z\" fill=\"none\"/>\n",
              "    <path d=\"M18.56 5.44l.94 2.06.94-2.06 2.06-.94-2.06-.94-.94-2.06-.94 2.06-2.06.94zm-11 1L8.5 8.5l.94-2.06 2.06-.94-2.06-.94L8.5 2.5l-.94 2.06-2.06.94zm10 10l.94 2.06.94-2.06 2.06-.94-2.06-.94-.94-2.06-.94 2.06-2.06.94z\"/><path d=\"M17.41 7.96l-1.37-1.37c-.4-.4-.92-.59-1.43-.59-.52 0-1.04.2-1.43.59L10.3 9.45l-7.72 7.72c-.78.78-.78 2.05 0 2.83L4 21.41c.39.39.9.59 1.41.59.51 0 1.02-.2 1.41-.59l7.78-7.78 2.81-2.81c.8-.78.8-2.07 0-2.86zM5.41 20L4 18.59l7.72-7.72 1.47 1.35L5.41 20z\"/>\n",
              "  </svg>\n",
              "      </button>\n",
              "      \n",
              "  <style>\n",
              "    .colab-df-container {\n",
              "      display:flex;\n",
              "      flex-wrap:wrap;\n",
              "      gap: 12px;\n",
              "    }\n",
              "\n",
              "    .colab-df-convert {\n",
              "      background-color: #E8F0FE;\n",
              "      border: none;\n",
              "      border-radius: 50%;\n",
              "      cursor: pointer;\n",
              "      display: none;\n",
              "      fill: #1967D2;\n",
              "      height: 32px;\n",
              "      padding: 0 0 0 0;\n",
              "      width: 32px;\n",
              "    }\n",
              "\n",
              "    .colab-df-convert:hover {\n",
              "      background-color: #E2EBFA;\n",
              "      box-shadow: 0px 1px 2px rgba(60, 64, 67, 0.3), 0px 1px 3px 1px rgba(60, 64, 67, 0.15);\n",
              "      fill: #174EA6;\n",
              "    }\n",
              "\n",
              "    [theme=dark] .colab-df-convert {\n",
              "      background-color: #3B4455;\n",
              "      fill: #D2E3FC;\n",
              "    }\n",
              "\n",
              "    [theme=dark] .colab-df-convert:hover {\n",
              "      background-color: #434B5C;\n",
              "      box-shadow: 0px 1px 3px 1px rgba(0, 0, 0, 0.15);\n",
              "      filter: drop-shadow(0px 1px 2px rgba(0, 0, 0, 0.3));\n",
              "      fill: #FFFFFF;\n",
              "    }\n",
              "  </style>\n",
              "\n",
              "      <script>\n",
              "        const buttonEl =\n",
              "          document.querySelector('#df-3d53e754-abba-44ba-96a8-e1ef45f3129f button.colab-df-convert');\n",
              "        buttonEl.style.display =\n",
              "          google.colab.kernel.accessAllowed ? 'block' : 'none';\n",
              "\n",
              "        async function convertToInteractive(key) {\n",
              "          const element = document.querySelector('#df-3d53e754-abba-44ba-96a8-e1ef45f3129f');\n",
              "          const dataTable =\n",
              "            await google.colab.kernel.invokeFunction('convertToInteractive',\n",
              "                                                     [key], {});\n",
              "          if (!dataTable) return;\n",
              "\n",
              "          const docLinkHtml = 'Like what you see? Visit the ' +\n",
              "            '<a target=\"_blank\" href=https://colab.research.google.com/notebooks/data_table.ipynb>data table notebook</a>'\n",
              "            + ' to learn more about interactive tables.';\n",
              "          element.innerHTML = '';\n",
              "          dataTable['output_type'] = 'display_data';\n",
              "          await google.colab.output.renderOutput(dataTable, element);\n",
              "          const docLink = document.createElement('div');\n",
              "          docLink.innerHTML = docLinkHtml;\n",
              "          element.appendChild(docLink);\n",
              "        }\n",
              "      </script>\n",
              "    </div>\n",
              "  </div>\n",
              "  "
            ]
          },
          "metadata": {},
          "execution_count": 9
        }
      ]
    },
    {
      "cell_type": "code",
      "source": [
        "fig, axs = plt.subplots(1, 2, figsize=(12, 4))\n",
        "\n",
        "teams = sorted(last_game.team.unique())\n",
        "\n",
        "for team, ax in zip(teams, axs.flatten()):\n",
        "    draw_net(ax)\n",
        "    ax.set_title(team, fontsize=16)\n",
        "    ax.axis(\"off\")\n",
        "\n",
        "for row in last_game.itertuples():\n",
        "    ax_idx = teams.index(row.team)\n",
        "    axs[ax_idx].text(\n",
        "        row.x, row.y, f\"o{int(row.shooter_number)}\", \n",
        "        ha=\"left\", va=\"center\", color=\"black\",\n",
        "        fontsize=16,\n",
        "    )"
      ],
      "metadata": {
        "colab": {
          "base_uri": "https://localhost:8080/",
          "height": 266
        },
        "id": "33OjjrRRUq7H",
        "outputId": "a2d40b39-d8ef-43dc-eb16-95ff9d7e1023"
      },
      "execution_count": 10,
      "outputs": [
        {
          "output_type": "display_data",
          "data": {
            "text/plain": [
              "<Figure size 864x288 with 2 Axes>"
            ],
            "image/png": "[encoded data removed]"
          },
          "metadata": {
            "needs_background": "light"
          }
        }
      ]
    },
    {
      "cell_type": "markdown",
      "source": [
        "Looks good to me."
      ],
      "metadata": {
        "id": "UTUsECr7uSVB"
      }
    },
    {
      "cell_type": "markdown",
      "source": [
        "## Goals by Year"
      ],
      "metadata": {
        "id": "N45IVkoAuOnN"
      }
    },
    {
      "cell_type": "markdown",
      "source": [
        "Finally, let's take a look at where pucks have been finding their way past goalies by year. We'll also throw in a plot that contains all the goals from every year for good measure. I'm choosing to use kernel density estimate plots (kdeplots) for this.\n",
        "\n",
        "Since I'm only interested in shots that beat goaltenders, we'll also need to remove empty netters. The goalie's number is listed as -1 for empty net goals, so we'll remove those from the data.  \n",
        "\n",
        "And I'll make the number of levels in the kdeplots a parameter you can play with, in case that interests you."
      ],
      "metadata": {
        "id": "RUnn3CelumG6"
      }
    },
    {
      "cell_type": "code",
      "source": [
        "levels = 15    #@param {type: \"number\"}"
      ],
      "metadata": {
        "id": "Ns8ACEpKvpbm"
      },
      "execution_count": 11,
      "outputs": []
    },
    {
      "cell_type": "code",
      "source": [
        "# Remove empty net goals.\n",
        "goals_on_goalies = df.query(\"goalie_number != -1\")\n",
        "\n",
        "# One Axes object for each year plus one for the overall totals.\n",
        "years = sorted(df.year.unique())\n",
        "n_cols = len(years) + 1\n",
        "\n",
        "summary_title = \"Overall\"\n",
        "\n",
        "fig, axs = plt.subplots(1, n_cols, figsize=(n_cols * 6, 4), facecolor=\"white\")\n",
        "fig.suptitle(\"Women's World Championship Goal Locations\", fontsize=24)\n",
        "\n",
        "for year, ax in zip(years + [summary_title], axs.flatten()):\n",
        "    draw_net(ax)\n",
        "    ax.axis(\"off\")\n",
        "    ax.set_title(year, fontsize=16, y=-0.1, va=\"top\")\n",
        "\n",
        "    sns.kdeplot(\n",
        "        x=\"x\", y=\"y\", ax=ax, levels=levels, shade=True, clip=[(0, NET_WIDTH), (0, NET_HEIGHT)],\n",
        "        data=goals_on_goalies.query(\"year == @year\") if year != summary_title else goals_on_goalies, \n",
        "    )"
      ],
      "metadata": {
        "colab": {
          "base_uri": "https://localhost:8080/",
          "height": 256
        },
        "id": "OpLB27TGX5s4",
        "outputId": "4b686226-79ba-4d68-8d36-257848dd54c9"
      },
      "execution_count": 12,
      "outputs": [
        {
          "output_type": "display_data",
          "data": {
            "text/plain": [
              "<Figure size 1728x288 with 4 Axes>"
            ],
            "image/png": "[encoded data removed]"
          },
          "metadata": {}
        }
      ]
    },
    {
      "cell_type": "markdown",
      "source": [
        "Looks like a lot of goals in the bottom part of the net, not so many directed at the goalie's chest/head. Five hole goals may also have been less common in 2022 than in previous years."
      ],
      "metadata": {
        "id": "CRQDBh_xwqMi"
      }
    }
  ]
}